{
 "cells": [
  {
   "cell_type": "markdown",
   "id": "1872bad8",
   "metadata": {},
   "source": [
    "# Personal Expenses Tracker\n"
   ]
  },
  {
   "cell_type": "markdown",
   "id": "7325fb28",
   "metadata": {},
   "source": [
    "# What are we tracking?\n",
    "# Create Variables"
   ]
  },
  {
   "cell_type": "code",
   "execution_count": 15,
   "id": "ec9308ce",
   "metadata": {},
   "outputs": [],
   "source": [
    "user = \"Emmanuel\" # string\n",
    "current_month = \"August 2025\" # string\n",
    "currency = \"$\" # string\n",
    "budget = 800.00 # float\n",
    "num_days_in_month = 31 # integer\n",
    "is_budget_set = True # boolean"
   ]
  },
  {
   "cell_type": "code",
   "execution_count": 16,
   "id": "adef5a9c",
   "metadata": {},
   "outputs": [
    {
     "name": "stdout",
     "output_type": "stream",
     "text": [
      "Hello Emmanuel\n"
     ]
    }
   ],
   "source": [
    "print(\"Hello\", user)"
   ]
  },
  {
   "cell_type": "code",
   "execution_count": 17,
   "id": "62c75a6c",
   "metadata": {},
   "outputs": [
    {
     "name": "stdout",
     "output_type": "stream",
     "text": [
      "budget for August 2025 : 800.0\n"
     ]
    }
   ],
   "source": [
    "print(\"budget for\", current_month, \":\", budget)"
   ]
  },
  {
   "cell_type": "markdown",
   "id": "438395be",
   "metadata": {},
   "source": [
    "A Single Expense"
   ]
  },
  {
   "cell_type": "code",
   "execution_count": 18,
   "id": "48f27ce1",
   "metadata": {},
   "outputs": [],
   "source": [
    "item = \"Rent\"\n",
    "amount = 200.00\n",
    "category = \"Housing\" \n",
    "is_essential = True # boolean"
   ]
  },
  {
   "cell_type": "code",
   "execution_count": 19,
   "id": "b65e570a",
   "metadata": {},
   "outputs": [],
   "source": [
    "items = [\"Rent\", \"Electricity\", \"Airtime\", \"Netflix\", \"Clothes\", \"Kfc\"] # list of strings\n",
    "prices = [200.00, 50.00, 30.00, 100.00, 150.00, 20.00] # list of floats\n",
    "categories = [\"Housing\", \"Utilities\", \"Utilities\", \"Entertainment\", \"Basic\", \"Food\"] # list of strings\n",
    "is_essentials = [True, True, True, False, True, False] # list of booleans"
   ]
  },
  {
   "cell_type": "code",
   "execution_count": 20,
   "id": "389a978d",
   "metadata": {},
   "outputs": [
    {
     "data": {
      "text/plain": [
       "[200.0, 50.0, 30.0, 100.0, 150.0, 20.0]"
      ]
     },
     "execution_count": 20,
     "metadata": {},
     "output_type": "execute_result"
    }
   ],
   "source": [
    "prices"
   ]
  },
  {
   "cell_type": "code",
   "execution_count": 21,
   "id": "69b0428c",
   "metadata": {},
   "outputs": [
    {
     "data": {
      "text/plain": [
       "550.0"
      ]
     },
     "execution_count": 21,
     "metadata": {},
     "output_type": "execute_result"
    }
   ],
   "source": [
    "prices [0] + prices [1] + prices [2] + prices [3] + prices [4] + prices [5]"
   ]
  },
  {
   "cell_type": "code",
   "execution_count": 22,
   "id": "0a6af972",
   "metadata": {},
   "outputs": [],
   "source": [
    "total_expenses = sum(prices) # float"
   ]
  },
  {
   "cell_type": "code",
   "execution_count": 24,
   "id": "01ff1c0c",
   "metadata": {},
   "outputs": [
    {
     "data": {
      "text/plain": [
       "250.0"
      ]
     },
     "execution_count": 24,
     "metadata": {},
     "output_type": "execute_result"
    }
   ],
   "source": [
    "balance = budget - total_expenses # float\n",
    "balance"
   ]
  },
  {
   "cell_type": "code",
   "execution_count": 26,
   "id": "78ff9708",
   "metadata": {},
   "outputs": [
    {
     "data": {
      "text/plain": [
       "6"
      ]
     },
     "execution_count": 26,
     "metadata": {},
     "output_type": "execute_result"
    }
   ],
   "source": [
    "num_of_items = len(items)\n",
    "num_of_items"
   ]
  },
  {
   "cell_type": "markdown",
   "id": "8cdb3e7b",
   "metadata": {},
   "source": [
    "Expenses Dashboard"
   ]
  },
  {
   "cell_type": "code",
   "execution_count": 28,
   "id": "9f46bd0c",
   "metadata": {},
   "outputs": [
    {
     "name": "stdout",
     "output_type": "stream",
     "text": [
      "===================================\n",
      "     Expense Tracker\n",
      "===================================\n",
      "Owner                 Emmanuel\n",
      "Period                August 2025\n",
      "-----------------------------------\n",
      "Currency              $\n",
      "Starting Balance      800.0\n",
      "Total Expenses        200.0\n",
      "-----------------------------------\n",
      "Remaining Balance     600.0\n",
      "Transaction           6\n",
      "===================================\n",
      "     Thank you for using the app!\n"
     ]
    }
   ],
   "source": [
    "print(\"=\"*35)\n",
    "print( \"     Expense Tracker\")\n",
    "print(\"=\"*35)\n",
    "print(\"Owner\", \"               \", user)\n",
    "print(\"Period\", \"              \", current_month)\n",
    "print(\"-\"*35)\n",
    "print(\"Currency\", \"            \", currency)\n",
    "print(\"Starting Balance\", \"    \", budget)\n",
    "print(\"Total Expenses\", \"      \", amount)\n",
    "print(\"-\"*35)\n",
    "print(\"Remaining Balance\", \"   \", budget - amount)\n",
    "print(\"Transaction\", \"         \", num_of_items)\n",
    "print(\"=\"*35)\n",
    "print(\"     Thank you for using the app!\")"
   ]
  },
  {
   "cell_type": "code",
   "execution_count": null,
   "id": "8f4395e0",
   "metadata": {},
   "outputs": [],
   "source": []
  },
  {
   "cell_type": "markdown",
   "id": "f812d28d",
   "metadata": {},
   "source": []
  },
  {
   "cell_type": "code",
   "execution_count": null,
   "id": "788a8ab7",
   "metadata": {},
   "outputs": [],
   "source": []
  }
 ],
 "metadata": {
  "kernelspec": {
   "display_name": "base",
   "language": "python",
   "name": "python3"
  },
  "language_info": {
   "codemirror_mode": {
    "name": "ipython",
    "version": 3
   },
   "file_extension": ".py",
   "mimetype": "text/x-python",
   "name": "python",
   "nbconvert_exporter": "python",
   "pygments_lexer": "ipython3",
   "version": "3.13.5"
  }
 },
 "nbformat": 4,
 "nbformat_minor": 5
}
